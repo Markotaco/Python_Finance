{
 "cells": [
  {
   "cell_type": "markdown",
   "id": "ee77b11f-a19c-421e-875c-1e83a355dfe2",
   "metadata": {},
   "source": [
    "# Generating the Sharpe Ratio of a stock portfolio"
   ]
  },
  {
   "cell_type": "markdown",
   "id": "e7362e51-6ff0-4971-8cd2-f63f2d1840dd",
   "metadata": {},
   "source": [
    "The intended purpose for this file is to take in a dictionary of stocks and the amount invested in each stocks and to generate a Sharpe Ratio of the portfolio. It is meant to be an easy tool for those looking to evaluate their stock portfolios. Due to the simplicity of the tool, this is also **NOT** meant for day traders, but instead people who are taking a more long-term perspective to investing."
   ]
  },
  {
   "cell_type": "markdown",
   "id": "6f4ea084-a9e7-4f57-8a69-e9a6e7ae5f5e",
   "metadata": {},
   "source": [
    "---"
   ]
  },
  {
   "cell_type": "markdown",
   "id": "041161a4-3e84-4f28-afb6-4921ab1e26dc",
   "metadata": {},
   "source": [
    "## Necessary Libraries"
   ]
  },
  {
   "cell_type": "code",
   "execution_count": 27,
   "id": "ebb637ea-0358-4356-8a23-acf01281f17d",
   "metadata": {},
   "outputs": [],
   "source": [
    "import numpy as np\n",
    "import pandas as pd\n",
    "import yfinance as yf\n",
    "import datetime as dt\n",
    "import scipy.optimize as opt"
   ]
  },
  {
   "cell_type": "markdown",
   "id": "50995aa4-0ea7-42fa-910f-8785b9d45551",
   "metadata": {},
   "source": [
    "## Importing data from stock_sheet"
   ]
  },
  {
   "cell_type": "markdown",
   "id": "145b8efb-ca0a-47d8-b488-5813c426ac6c",
   "metadata": {},
   "source": [
    "First, the program will read in the stock names and amount invested from the excel sheet as a pandas dataframe. After which, the ticker names will be stored as an array for use in the downloading of the stock data"
   ]
  },
  {
   "cell_type": "code",
   "execution_count": 28,
   "id": "65e3d7eb-2734-4a29-8e0e-59fecacd3fae",
   "metadata": {},
   "outputs": [
    {
     "data": {
      "text/html": [
       "<div>\n",
       "<style scoped>\n",
       "    .dataframe tbody tr th:only-of-type {\n",
       "        vertical-align: middle;\n",
       "    }\n",
       "\n",
       "    .dataframe tbody tr th {\n",
       "        vertical-align: top;\n",
       "    }\n",
       "\n",
       "    .dataframe thead th {\n",
       "        text-align: right;\n",
       "    }\n",
       "</style>\n",
       "<table border=\"1\" class=\"dataframe\">\n",
       "  <thead>\n",
       "    <tr style=\"text-align: right;\">\n",
       "      <th></th>\n",
       "      <th>Stock Ticker</th>\n",
       "      <th>Amount Invested</th>\n",
       "    </tr>\n",
       "  </thead>\n",
       "  <tbody>\n",
       "    <tr>\n",
       "      <th>0</th>\n",
       "      <td>AAPL</td>\n",
       "      <td>300</td>\n",
       "    </tr>\n",
       "    <tr>\n",
       "      <th>1</th>\n",
       "      <td>MSFT</td>\n",
       "      <td>300</td>\n",
       "    </tr>\n",
       "    <tr>\n",
       "      <th>2</th>\n",
       "      <td>NVDA</td>\n",
       "      <td>400</td>\n",
       "    </tr>\n",
       "    <tr>\n",
       "      <th>3</th>\n",
       "      <td>GLD</td>\n",
       "      <td>400</td>\n",
       "    </tr>\n",
       "  </tbody>\n",
       "</table>\n",
       "</div>"
      ],
      "text/plain": [
       "  Stock Ticker  Amount Invested\n",
       "0         AAPL              300\n",
       "1         MSFT              300\n",
       "2         NVDA              400\n",
       "3          GLD              400"
      ]
     },
     "execution_count": 28,
     "metadata": {},
     "output_type": "execute_result"
    }
   ],
   "source": [
    "# Reading in stock data from pandas dataframe\n",
    "stock_details_excel = pd.read_excel(\"stock_input_file.xlsx\",\n",
    "                                    sheet_name=\"stock_sheet\")\n",
    "stock_details_excel"
   ]
  },
  {
   "cell_type": "code",
   "execution_count": 29,
   "id": "c0be3729-4b95-47e2-af6a-0536f3246e24",
   "metadata": {},
   "outputs": [
    {
     "data": {
      "text/plain": [
       "array(['AAPL', 'MSFT', 'NVDA', 'GLD'], dtype=object)"
      ]
     },
     "execution_count": 29,
     "metadata": {},
     "output_type": "execute_result"
    }
   ],
   "source": [
    "# Extracting the names as an array and storing it as a variable\n",
    "stock_names_array = np.array(stock_details_excel['Stock Ticker'])\n",
    "stock_names_array"
   ]
  },
  {
   "cell_type": "markdown",
   "id": "7faf7856-639d-4aeb-a631-eca055df136e",
   "metadata": {},
   "source": [
    "## Transforming the investment values into portfolio weights"
   ]
  },
  {
   "cell_type": "markdown",
   "id": "667c5916-137d-43b3-9dae-e7b9f08905f7",
   "metadata": {},
   "source": [
    "The user would input the amount they have invested into each asset, but what the program needs is the weight of the asset with regards to the whole portfolio"
   ]
  },
  {
   "cell_type": "code",
   "execution_count": 30,
   "id": "4192e323-9298-401f-94c8-232e21fb521b",
   "metadata": {},
   "outputs": [
    {
     "data": {
      "text/plain": [
       "array([0.21428571, 0.21428571, 0.28571429, 0.28571429])"
      ]
     },
     "execution_count": 30,
     "metadata": {},
     "output_type": "execute_result"
    }
   ],
   "source": [
    "# Extracting the values from the datadrame, turning it into an array, before dividing by the sum of the values to get the weights\n",
    "stock_weights_array = np.array(stock_details_excel['Amount Invested'])/sum(stock_details_excel['Amount Invested'])\n",
    "stock_weights_array"
   ]
  },
  {
   "cell_type": "markdown",
   "id": "71729502-2f9c-46f6-a537-757b3562f639",
   "metadata": {},
   "source": [
    "## Obtaining the other relevant parameter from the other_parameters sheet"
   ]
  },
  {
   "cell_type": "markdown",
   "id": "23a9d7c8-35bf-440d-9342-7f383c23173a",
   "metadata": {},
   "source": [
    "The program will also need the other relevant data inputted by the user, such as the annual risk-free rate, the time interval the user is looking at and the start and end date of the data the user would like to base their returns off"
   ]
  },
  {
   "cell_type": "code",
   "execution_count": 31,
   "id": "b3cccf54-2efc-418a-b667-3bf5d0ee26c8",
   "metadata": {},
   "outputs": [
    {
     "data": {
      "text/html": [
       "<div>\n",
       "<style scoped>\n",
       "    .dataframe tbody tr th:only-of-type {\n",
       "        vertical-align: middle;\n",
       "    }\n",
       "\n",
       "    .dataframe tbody tr th {\n",
       "        vertical-align: top;\n",
       "    }\n",
       "\n",
       "    .dataframe thead th {\n",
       "        text-align: right;\n",
       "    }\n",
       "</style>\n",
       "<table border=\"1\" class=\"dataframe\">\n",
       "  <thead>\n",
       "    <tr style=\"text-align: right;\">\n",
       "      <th></th>\n",
       "      <th>Annual Risk Free Rate</th>\n",
       "      <th>Time Interval</th>\n",
       "      <th>Start Date</th>\n",
       "      <th>End Date</th>\n",
       "    </tr>\n",
       "  </thead>\n",
       "  <tbody>\n",
       "    <tr>\n",
       "      <th>0</th>\n",
       "      <td>0.03874</td>\n",
       "      <td>1mo</td>\n",
       "      <td>2015-07-01</td>\n",
       "      <td>2025-07-01</td>\n",
       "    </tr>\n",
       "  </tbody>\n",
       "</table>\n",
       "</div>"
      ],
      "text/plain": [
       "   Annual Risk Free Rate Time Interval Start Date   End Date\n",
       "0                0.03874           1mo 2015-07-01 2025-07-01"
      ]
     },
     "execution_count": 31,
     "metadata": {},
     "output_type": "execute_result"
    }
   ],
   "source": [
    "other_parameters = pd.read_excel(\"stock_input_file.xlsx\",\n",
    "                                 sheet_name=\"other_parameters\")\n",
    "other_parameters"
   ]
  },
  {
   "cell_type": "code",
   "execution_count": 32,
   "id": "944c7805-8d15-44a5-b760-f6f353d06e17",
   "metadata": {},
   "outputs": [
    {
     "name": "stdout",
     "output_type": "stream",
     "text": [
      "Other parameters have been set as the following:\n",
      "Risk-Free Rate: 3.87%\n",
      "Time Interval of Asset Price: 1mo\n",
      "Starting Date of Data: 2015-07-01\n",
      "Ending Date of Data: 2025-07-01\n"
     ]
    }
   ],
   "source": [
    "# Extracting the risk-free rate\n",
    "risk_free_rate = other_parameters.iloc[0][0]\n",
    "# Extracting the time interval\n",
    "return_type = other_parameters.iloc[0][1]\n",
    "# Extracting the start date and turning it into a string\n",
    "start_date = str(other_parameters.iloc[0][2].date())\n",
    "# Extracting the end date and turning it into a string\n",
    "end_date = str(other_parameters.iloc[0][3].date())\n",
    "\n",
    "# Viewing Variables\n",
    "print(\"Other parameters have been set as the following:\")\n",
    "print(f\"Risk-Free Rate: {round(risk_free_rate*100, 2)}%\")\n",
    "print(f\"Time Interval of Asset Price: {return_type}\")\n",
    "print(f\"Starting Date of Data: {start_date}\")\n",
    "print(f\"Ending Date of Data: {end_date}\")"
   ]
  },
  {
   "cell_type": "markdown",
   "id": "1bc54bf0-cb07-44ad-a768-e43bad595257",
   "metadata": {},
   "source": [
    "## Getting the data"
   ]
  },
  {
   "cell_type": "markdown",
   "id": "cc575822-af76-44b6-a555-91a13f7f5dbc",
   "metadata": {},
   "source": [
    "The data will be taken from yfinance, an open source API for historical stock price data. The closing price will be used since that reflects the state of the stocks once the variations during the day has passed over. The return of the stock is simply the percentage change in the stock's closing price from the previous period."
   ]
  },
  {
   "cell_type": "code",
   "execution_count": 33,
   "id": "c6ffbb26-9d93-457f-a3a9-9b52b62985cb",
   "metadata": {},
   "outputs": [
    {
     "name": "stderr",
     "output_type": "stream",
     "text": [
      "/var/folders/ft/pyc14sjj57j267_mfgwsdhw00000gn/T/ipykernel_2069/3199029368.py:2: FutureWarning: YF.download() has changed argument auto_adjust default to True\n",
      "  stock_returns = yf.download(tuple(stock_names_array), start=start_date, end=end_date, interval=return_type)['Close'].pct_change()\n",
      "[*********************100%***********************]  4 of 4 completed\n"
     ]
    },
    {
     "data": {
      "text/html": [
       "<div>\n",
       "<style scoped>\n",
       "    .dataframe tbody tr th:only-of-type {\n",
       "        vertical-align: middle;\n",
       "    }\n",
       "\n",
       "    .dataframe tbody tr th {\n",
       "        vertical-align: top;\n",
       "    }\n",
       "\n",
       "    .dataframe thead th {\n",
       "        text-align: right;\n",
       "    }\n",
       "</style>\n",
       "<table border=\"1\" class=\"dataframe\">\n",
       "  <thead>\n",
       "    <tr style=\"text-align: right;\">\n",
       "      <th>Ticker</th>\n",
       "      <th>AAPL</th>\n",
       "      <th>GLD</th>\n",
       "      <th>MSFT</th>\n",
       "      <th>NVDA</th>\n",
       "    </tr>\n",
       "    <tr>\n",
       "      <th>Date</th>\n",
       "      <th></th>\n",
       "      <th></th>\n",
       "      <th></th>\n",
       "      <th></th>\n",
       "    </tr>\n",
       "  </thead>\n",
       "  <tbody>\n",
       "    <tr>\n",
       "      <th>2015-07-01</th>\n",
       "      <td>NaN</td>\n",
       "      <td>NaN</td>\n",
       "      <td>NaN</td>\n",
       "      <td>NaN</td>\n",
       "    </tr>\n",
       "    <tr>\n",
       "      <th>2015-08-01</th>\n",
       "      <td>-0.070404</td>\n",
       "      <td>0.037072</td>\n",
       "      <td>-0.068095</td>\n",
       "      <td>0.126817</td>\n",
       "    </tr>\n",
       "    <tr>\n",
       "      <th>2015-09-01</th>\n",
       "      <td>-0.017389</td>\n",
       "      <td>-0.018011</td>\n",
       "      <td>0.023710</td>\n",
       "      <td>0.101144</td>\n",
       "    </tr>\n",
       "    <tr>\n",
       "      <th>2015-10-01</th>\n",
       "      <td>0.083409</td>\n",
       "      <td>0.022834</td>\n",
       "      <td>0.189336</td>\n",
       "      <td>0.150913</td>\n",
       "    </tr>\n",
       "    <tr>\n",
       "      <th>2015-11-01</th>\n",
       "      <td>-0.010042</td>\n",
       "      <td>-0.067521</td>\n",
       "      <td>0.032485</td>\n",
       "      <td>0.118082</td>\n",
       "    </tr>\n",
       "    <tr>\n",
       "      <th>...</th>\n",
       "      <td>...</td>\n",
       "      <td>...</td>\n",
       "      <td>...</td>\n",
       "      <td>...</td>\n",
       "    </tr>\n",
       "    <tr>\n",
       "      <th>2025-02-01</th>\n",
       "      <td>0.024746</td>\n",
       "      <td>0.018216</td>\n",
       "      <td>-0.043536</td>\n",
       "      <td>0.040393</td>\n",
       "    </tr>\n",
       "    <tr>\n",
       "      <th>2025-03-01</th>\n",
       "      <td>-0.080490</td>\n",
       "      <td>0.094466</td>\n",
       "      <td>-0.052513</td>\n",
       "      <td>-0.132405</td>\n",
       "    </tr>\n",
       "    <tr>\n",
       "      <th>2025-04-01</th>\n",
       "      <td>-0.043353</td>\n",
       "      <td>0.054244</td>\n",
       "      <td>0.052932</td>\n",
       "      <td>0.005075</td>\n",
       "    </tr>\n",
       "    <tr>\n",
       "      <th>2025-05-01</th>\n",
       "      <td>-0.054824</td>\n",
       "      <td>-0.000560</td>\n",
       "      <td>0.164702</td>\n",
       "      <td>0.240635</td>\n",
       "    </tr>\n",
       "    <tr>\n",
       "      <th>2025-06-01</th>\n",
       "      <td>0.022848</td>\n",
       "      <td>0.004051</td>\n",
       "      <td>0.082464</td>\n",
       "      <td>0.169170</td>\n",
       "    </tr>\n",
       "  </tbody>\n",
       "</table>\n",
       "<p>120 rows × 4 columns</p>\n",
       "</div>"
      ],
      "text/plain": [
       "Ticker          AAPL       GLD      MSFT      NVDA\n",
       "Date                                              \n",
       "2015-07-01       NaN       NaN       NaN       NaN\n",
       "2015-08-01 -0.070404  0.037072 -0.068095  0.126817\n",
       "2015-09-01 -0.017389 -0.018011  0.023710  0.101144\n",
       "2015-10-01  0.083409  0.022834  0.189336  0.150913\n",
       "2015-11-01 -0.010042 -0.067521  0.032485  0.118082\n",
       "...              ...       ...       ...       ...\n",
       "2025-02-01  0.024746  0.018216 -0.043536  0.040393\n",
       "2025-03-01 -0.080490  0.094466 -0.052513 -0.132405\n",
       "2025-04-01 -0.043353  0.054244  0.052932  0.005075\n",
       "2025-05-01 -0.054824 -0.000560  0.164702  0.240635\n",
       "2025-06-01  0.022848  0.004051  0.082464  0.169170\n",
       "\n",
       "[120 rows x 4 columns]"
      ]
     },
     "execution_count": 33,
     "metadata": {},
     "output_type": "execute_result"
    }
   ],
   "source": [
    "# Using yf.download to get the data of multiple stocks' closing prices. After that using the pct_change method to get the percentage change in the stock's price from the previous period.\n",
    "stock_returns = yf.download(tuple(stock_names_array), start=start_date, end=end_date, interval=return_type)['Close'].pct_change()\n",
    "\n",
    "stock_returns"
   ]
  },
  {
   "cell_type": "markdown",
   "id": "977059a6-0b6f-4f0b-a67b-73e2fd1142d7",
   "metadata": {},
   "source": [
    "## Calculating the portfolio's expected returns"
   ]
  },
  {
   "cell_type": "markdown",
   "id": "82a455a6-045f-4726-b5b7-a5aeceda198f",
   "metadata": {},
   "source": [
    "A portfolio of size $n$ has a expected weighted return of:\n",
    "\n",
    "$$E[Return]$$ \n",
    "$$= E[w_1*r_1 + w_2*r_2 + ... + w_n*r_n]$$\n",
    "$$  = w_1*E[r_1] + w_2*E[r_2] + ... + w_n*E[r_n]$$\n",
    "\n",
    "In a sample, this translates to $\\bar{X_i}$ instead of $E[r_i]$"
   ]
  },
  {
   "cell_type": "code",
   "execution_count": 34,
   "id": "bf0faafc-9663-4526-b235-5aa512b0d4e9",
   "metadata": {},
   "outputs": [],
   "source": [
    "# Getting the sample mean of each stock\n",
    "exp_return = stock_returns.mean()\n",
    "# Turning it into an array\n",
    "exp_return_array = np.array(exp_return)"
   ]
  },
  {
   "cell_type": "code",
   "execution_count": 35,
   "id": "1013f77e-f623-4201-aff7-cc45d432aa5c",
   "metadata": {},
   "outputs": [
    {
     "data": {
      "text/plain": [
       "0.029874874648898656"
      ]
     },
     "execution_count": 35,
     "metadata": {},
     "output_type": "execute_result"
    }
   ],
   "source": [
    "# Getting the weighted expected returns by multiplying the weights to the sample means\n",
    "weighted_exp_return = exp_return_array * stock_weights_array\n",
    "# Getting the sum for the portfolio's expected returns\n",
    "portfolio_expected_return = weighted_exp_return.sum()\n",
    "portfolio_expected_return"
   ]
  },
  {
   "cell_type": "markdown",
   "id": "2bd4da99-ef73-49ed-95b4-656a2743baa8",
   "metadata": {},
   "source": [
    "## Calculating the portfolio's variance and standard deviation (volatility)"
   ]
  },
  {
   "cell_type": "markdown",
   "id": "3d49d30a-f847-4990-8c9b-d2ec58d643b0",
   "metadata": {},
   "source": [
    "A portfolio's return variance can be given by the following equation:\n",
    "\n",
    "$$var(Return)$$\n",
    "$$= var(w_1*r_1 + w_2*r_2 + ... + w_n*r_n)$$\n",
    "$$= w_1^2*var(r_1) + w_2^2*var(r_2) + ... + w_n^2*var(r_n) + 2*w_1*w_2*cov(r_1,r_2) + 2*w_1*w_3*cov(r_1,r_3) + ... 2*w_n*w_{n-1}*cov(w_n,w_{n-1})$$\n",
    "\n",
    "In a sample, this would be replaced by sample variances and covariances. The right degrees of freedom are already considered by the method by default"
   ]
  },
  {
   "cell_type": "code",
   "execution_count": 36,
   "id": "cbe31ac2-9fd3-40ca-8c2e-e9be313a23f4",
   "metadata": {},
   "outputs": [
    {
     "data": {
      "text/html": [
       "<div>\n",
       "<style scoped>\n",
       "    .dataframe tbody tr th:only-of-type {\n",
       "        vertical-align: middle;\n",
       "    }\n",
       "\n",
       "    .dataframe tbody tr th {\n",
       "        vertical-align: top;\n",
       "    }\n",
       "\n",
       "    .dataframe thead th {\n",
       "        text-align: right;\n",
       "    }\n",
       "</style>\n",
       "<table border=\"1\" class=\"dataframe\">\n",
       "  <thead>\n",
       "    <tr style=\"text-align: right;\">\n",
       "      <th>Ticker</th>\n",
       "      <th>AAPL</th>\n",
       "      <th>GLD</th>\n",
       "      <th>MSFT</th>\n",
       "      <th>NVDA</th>\n",
       "    </tr>\n",
       "    <tr>\n",
       "      <th>Ticker</th>\n",
       "      <th></th>\n",
       "      <th></th>\n",
       "      <th></th>\n",
       "      <th></th>\n",
       "    </tr>\n",
       "  </thead>\n",
       "  <tbody>\n",
       "    <tr>\n",
       "      <th>AAPL</th>\n",
       "      <td>0.006453</td>\n",
       "      <td>0.000120</td>\n",
       "      <td>0.002892</td>\n",
       "      <td>0.005748</td>\n",
       "    </tr>\n",
       "    <tr>\n",
       "      <th>GLD</th>\n",
       "      <td>0.000120</td>\n",
       "      <td>0.001632</td>\n",
       "      <td>0.000021</td>\n",
       "      <td>-0.000372</td>\n",
       "    </tr>\n",
       "    <tr>\n",
       "      <th>MSFT</th>\n",
       "      <td>0.002892</td>\n",
       "      <td>0.000021</td>\n",
       "      <td>0.003667</td>\n",
       "      <td>0.004921</td>\n",
       "    </tr>\n",
       "    <tr>\n",
       "      <th>NVDA</th>\n",
       "      <td>0.005748</td>\n",
       "      <td>-0.000372</td>\n",
       "      <td>0.004921</td>\n",
       "      <td>0.018708</td>\n",
       "    </tr>\n",
       "  </tbody>\n",
       "</table>\n",
       "</div>"
      ],
      "text/plain": [
       "Ticker      AAPL       GLD      MSFT      NVDA\n",
       "Ticker                                        \n",
       "AAPL    0.006453  0.000120  0.002892  0.005748\n",
       "GLD     0.000120  0.001632  0.000021 -0.000372\n",
       "MSFT    0.002892  0.000021  0.003667  0.004921\n",
       "NVDA    0.005748 -0.000372  0.004921  0.018708"
      ]
     },
     "execution_count": 36,
     "metadata": {},
     "output_type": "execute_result"
    }
   ],
   "source": [
    "# Getting the covariance matrix from the stock data\n",
    "stock_returns_cov = stock_returns.cov()\n",
    "stock_returns_cov"
   ]
  },
  {
   "cell_type": "code",
   "execution_count": 37,
   "id": "0d1bec6a-569f-48f5-b6f4-b491c9e8e501",
   "metadata": {},
   "outputs": [
    {
     "data": {
      "text/plain": [
       "array([[0.04591837, 0.04591837, 0.06122449, 0.06122449],\n",
       "       [0.04591837, 0.04591837, 0.06122449, 0.06122449],\n",
       "       [0.06122449, 0.06122449, 0.08163265, 0.08163265],\n",
       "       [0.06122449, 0.06122449, 0.08163265, 0.08163265]])"
      ]
     },
     "execution_count": 37,
     "metadata": {},
     "output_type": "execute_result"
    }
   ],
   "source": [
    "# Generating the weights matrix, which consists of a matrix mulitplication between the weights array and its transpose\n",
    "stock_weights_matrix = np.outer(stock_weights_array, stock_weights_array)\n",
    "stock_weights_matrix"
   ]
  },
  {
   "cell_type": "markdown",
   "id": "ac7ffa50-df7b-411f-92b0-35f91e7c52c1",
   "metadata": {},
   "source": [
    "The scalar multiplication of the above matrices, followed by a summation accross all elements of the resulting matrix, will give one the portfolio variance as described in the equation above."
   ]
  },
  {
   "cell_type": "code",
   "execution_count": 38,
   "id": "446e9421-19b5-462b-add9-6db992e94f0a",
   "metadata": {},
   "outputs": [
    {
     "data": {
      "text/plain": [
       "0.004027266787627206"
      ]
     },
     "execution_count": 38,
     "metadata": {},
     "output_type": "execute_result"
    }
   ],
   "source": [
    "# Multiplying the two matrices, and then getting the sum over all rows, then columns\n",
    "portfolio_variance = (stock_returns_cov * stock_weights_matrix).sum().sum()\n",
    "portfolio_variance"
   ]
  },
  {
   "cell_type": "markdown",
   "id": "e1829a34-faa1-40a6-93d5-29418481462e",
   "metadata": {},
   "source": [
    "After obtaining the variance of a portfolio, the standard deviation can be given by:\n",
    "$$\\sigma = \\sqrt{var(Return)}$$"
   ]
  },
  {
   "cell_type": "code",
   "execution_count": 39,
   "id": "61aa44fa-a22d-4e83-a6bf-40427b95dfe1",
   "metadata": {},
   "outputs": [
    {
     "data": {
      "text/plain": [
       "0.06346074997687316"
      ]
     },
     "execution_count": 39,
     "metadata": {},
     "output_type": "execute_result"
    }
   ],
   "source": [
    "# Obtaining the standard deviation of the portfolio\n",
    "portfolio_sd = np.sqrt(portfolio_variance)\n",
    "portfolio_sd"
   ]
  },
  {
   "cell_type": "markdown",
   "id": "b1d0a563-af32-407a-aeca-6ede0e8af27f",
   "metadata": {},
   "source": [
    "## Calculating the Sharpe ratio"
   ]
  },
  {
   "cell_type": "markdown",
   "id": "67b0d3c6-c769-44f6-adba-73a54d234562",
   "metadata": {},
   "source": [
    "The Sharpe ratio can be calculated as the following:\n",
    "\n",
    "$${Sharpe Ratio} = \\frac{r_p - r_f}{\\sigma_p}$$\n",
    "\n",
    "Where $r_p$ and $\\sigma_p$ are the expected return of the portfolio and the volatility of the portfolio respectively, and $r_f$ is the return from the risk-free option"
   ]
  },
  {
   "cell_type": "markdown",
   "id": "50f17748-d337-4f31-be77-2db458ec3753",
   "metadata": {},
   "source": [
    "To obtain an appropriate risk-free rate that has been adjusted for the time period the user specified to look at, the annual risk-free rate given by the user needs to be adjusted to fit their time period. Thus, a function will help to do this"
   ]
  },
  {
   "cell_type": "code",
   "execution_count": 40,
   "id": "4466d646-d921-45ab-b61d-2c3f224eac6f",
   "metadata": {},
   "outputs": [],
   "source": [
    "# Creating a function to adjust the annual risk-free rate according to the time interval specified by the user. This ensures a consistent risk-free rate used\n",
    "def rf_adjuster(rf_input, time_interval):\n",
    "    \"Takes the inputted risk-free rate and returns the interest rate adjusted for the inputted time interval the user is looking at\"\n",
    "    # Looking at the case of daily returns\n",
    "    if 'd' in time_interval:\n",
    "        # Converting the annual rate into a daily rate\n",
    "        rf_base = (1+rf_input)**(1/365) - 1\n",
    "        # Converting the daily rate to the appropriate period\n",
    "        rf_adjusted = (1+rf_base)**(int(time_interval[0])) - 1\n",
    "    # Looking at the case of weekly returns\n",
    "    elif 'wk' in time_interval:\n",
    "        # Converting the annual rate into a weekly rate\n",
    "        rf_base = (1+rf_input)**(1/52) - 1\n",
    "        # Converting the weekly rate to the appropriate period\n",
    "        rf_adjusted = (1+rf_base)**(int(time_interval[0])) - 1\n",
    "    # Looking at the case of monthly returns\n",
    "    elif 'mo' in time_interval:\n",
    "        # Converting the annual rate into a monthly rate\n",
    "        rf_base = (1+rf_input)**(1/12) - 1\n",
    "        # Converting the monthly rate to the appropriate period\n",
    "        rf_adjusted = (1+rf_base)**(int(time_interval[0])) - 1\n",
    "    # If none of the cases match, then the user has given an erroneous input\n",
    "    else:\n",
    "        return print(\"Error, interval given is not a valid interval within this tool\")\n",
    "    # Return the adjusted input\n",
    "    return rf_adjusted"
   ]
  },
  {
   "cell_type": "code",
   "execution_count": 41,
   "id": "7540811b-8244-4dea-b692-a040ebb13790",
   "metadata": {},
   "outputs": [
    {
     "data": {
      "text/plain": [
       "0.00317239143204473"
      ]
     },
     "execution_count": 41,
     "metadata": {},
     "output_type": "execute_result"
    }
   ],
   "source": [
    "# Getting the adjusted risk-free rate\n",
    "adjusted_risk_free_rate = rf_adjuster(risk_free_rate, return_type)\n",
    "adjusted_risk_free_rate"
   ]
  },
  {
   "cell_type": "code",
   "execution_count": 42,
   "id": "b12c400a-85d6-43e7-b5fa-f3e04839502e",
   "metadata": {},
   "outputs": [
    {
     "data": {
      "text/plain": [
       "0.4207716301270477"
      ]
     },
     "execution_count": 42,
     "metadata": {},
     "output_type": "execute_result"
    }
   ],
   "source": [
    "# Getting the Sharpe ratio as defined above\n",
    "sharpe_ratio = (portfolio_expected_return - adjusted_risk_free_rate)/portfolio_sd\n",
    "sharpe_ratio"
   ]
  },
  {
   "cell_type": "markdown",
   "id": "f98632a6-afc9-4570-9fd3-b684e1ad3f9c",
   "metadata": {},
   "source": [
    "## Portfolio's Final Metrics"
   ]
  },
  {
   "cell_type": "code",
   "execution_count": 43,
   "id": "02610b79-e236-494d-8582-0eefeaf2cb51",
   "metadata": {},
   "outputs": [
    {
     "name": "stdout",
     "output_type": "stream",
     "text": [
      "The Portfolio's Sharpe Ratio is 0.4208\n"
     ]
    }
   ],
   "source": [
    "print(f\"The Portfolio's Sharpe Ratio is {round(sharpe_ratio, 4)}\")"
   ]
  },
  {
   "cell_type": "code",
   "execution_count": 44,
   "id": "f990996c-22d2-447d-a608-6d833f9e1d0c",
   "metadata": {},
   "outputs": [
    {
     "name": "stdout",
     "output_type": "stream",
     "text": [
      "The Portfolio's Expected Return for the time interval of '1mo' is 2.99%\n"
     ]
    }
   ],
   "source": [
    "print(f\"The Portfolio's Expected Return for the time interval of '{return_type}' is {round(portfolio_expected_return*100, 2)}%\")"
   ]
  },
  {
   "cell_type": "code",
   "execution_count": 45,
   "id": "96cd792c-aae1-4ab9-8481-9719850f8faa",
   "metadata": {},
   "outputs": [
    {
     "name": "stdout",
     "output_type": "stream",
     "text": [
      "The Portfolio's Volatility for the time interval of '1mo' is 6.35%\n"
     ]
    }
   ],
   "source": [
    "print(f\"The Portfolio's Volatility for the time interval of '{return_type}' is {round(portfolio_sd*100, 2)}%\")"
   ]
  },
  {
   "cell_type": "markdown",
   "id": "b9077df3-ff3d-4442-b4d9-673fb296e9b3",
   "metadata": {},
   "source": [
    "## Optimisation of the Portfolio"
   ]
  },
  {
   "cell_type": "markdown",
   "id": "634f1ee4-54a2-4e7d-80d2-c7b2d4b613f9",
   "metadata": {},
   "source": [
    "The program can be taken one step further, and be used to generate the investments amounts and weights needed to obtain an optimal portfolio. The portfolio will be optimised by maximising the portfolio's Sharpe Ratio"
   ]
  },
  {
   "cell_type": "markdown",
   "id": "b38f2c41-6173-472f-bd43-3473ddfcd8c6",
   "metadata": {},
   "source": [
    "For the optimisation code to work, an objective function for the Sharpe Ratio needs to be created. This function will consist of two smaller functions:\n",
    "1. A function calculating the expected return of the portfolio\n",
    "2. A function calculating the volatility of the portfolio"
   ]
  },
  {
   "cell_type": "markdown",
   "id": "351858de-ef07-45f7-acba-441ff097c0d8",
   "metadata": {},
   "source": [
    "### Expected Return Function"
   ]
  },
  {
   "cell_type": "code",
   "execution_count": 46,
   "id": "8e06f2d6-b5f3-43ca-a5b8-9d54227f2c91",
   "metadata": {},
   "outputs": [],
   "source": [
    "# Function takes a dataframe and a weight array\n",
    "def expected_return_cal(df, weight):\n",
    "    # Individual stock's expected return\n",
    "    indiv_return = np.array(df.mean())\n",
    "    # Portfolio expected return\n",
    "    port_return = (indiv_return*weight).sum()\n",
    "    # Returning the expected return of the portfolio\n",
    "    return port_return"
   ]
  },
  {
   "cell_type": "code",
   "execution_count": 47,
   "id": "22e160a4-f670-4fa0-a5cc-338e50f219b7",
   "metadata": {},
   "outputs": [
    {
     "data": {
      "text/plain": [
       "0.029874874648898656"
      ]
     },
     "execution_count": 47,
     "metadata": {},
     "output_type": "execute_result"
    }
   ],
   "source": [
    "expected_return_cal(stock_returns, stock_weights_array)"
   ]
  },
  {
   "cell_type": "markdown",
   "id": "6a8edee6-820f-47fe-95b1-b224acf869fa",
   "metadata": {},
   "source": [
    "### Portfolio Volatility Function"
   ]
  },
  {
   "cell_type": "code",
   "execution_count": 55,
   "id": "3deb6015-6b48-4956-83b9-ecb485d7bb7e",
   "metadata": {},
   "outputs": [],
   "source": [
    "# Function takes a dataframe and a weight array\n",
    "def volatility_cal(df, weight):\n",
    "    # Generating the covariance matrix\n",
    "    stock_cov = df.cov()\n",
    "    # Generating the weight matrix\n",
    "    weight_matrix = np.outer(weight, weight)\n",
    "    # Scalar multiplication of both matrices, and then summing all elements to get the portfolio variance\n",
    "    port_var = (stock_cov * weight_matrix).sum().sum()\n",
    "    # Taking the standard deviation of the variance\n",
    "    port_vol = np.sqrt(port_var)\n",
    "    return port_vol"
   ]
  },
  {
   "cell_type": "code",
   "execution_count": 57,
   "id": "5bcda84e-6af2-4120-a6da-f6722decceb3",
   "metadata": {},
   "outputs": [
    {
     "data": {
      "text/plain": [
       "0.06346074997687316"
      ]
     },
     "execution_count": 57,
     "metadata": {},
     "output_type": "execute_result"
    }
   ],
   "source": [
    "volatility_cal(stock_returns, stock_weights_array)"
   ]
  },
  {
   "cell_type": "markdown",
   "id": "876934dc-deb3-4090-b90a-60e4f0e80e6f",
   "metadata": {},
   "source": [
    "### Sharpe Ratio Function"
   ]
  },
  {
   "cell_type": "code",
   "execution_count": 58,
   "id": "7a1efc35-0ffc-4813-a297-7744a7b418fd",
   "metadata": {},
   "outputs": [],
   "source": [
    "# Risk-free rate used is adjusted for by the input parameters\n",
    "effective_rf = rf_adjuster(risk_free_rate, return_type)\n",
    "# Function takes a dataframe and a weight array\n",
    "def sharpe_ratio_cal(df, weight):\n",
    "    # Sharpe ratio is the expected return minu the risk-free rate, divided by the standard deviation\n",
    "    sharpe = (expected_return_cal(df, weight) - effective_rf)/volatility_cal(df, weight)\n",
    "    return sharpe"
   ]
  },
  {
   "cell_type": "code",
   "execution_count": 60,
   "id": "07321a6e-8402-4241-996a-d061cb8612fa",
   "metadata": {},
   "outputs": [
    {
     "data": {
      "text/plain": [
       "0.4207716301270477"
      ]
     },
     "execution_count": 60,
     "metadata": {},
     "output_type": "execute_result"
    }
   ],
   "source": [
    "sharpe_ratio_cal(stock_returns, stock_weights_array)"
   ]
  },
  {
   "cell_type": "markdown",
   "id": "b2be27e4-e4a2-429b-9373-06950d9cc484",
   "metadata": {},
   "source": [
    "## Writing the metrics into an excel output file"
   ]
  },
  {
   "cell_type": "markdown",
   "id": "7b074f83-8af6-402c-a91a-40112ae8e6cb",
   "metadata": {},
   "source": [
    "These metrics can also be written into output excel file for easier viewing. This can be done with pandas, but that means that the data first needs to be wrapped up in a dataframe"
   ]
  },
  {
   "cell_type": "code",
   "execution_count": 48,
   "id": "f730d988-ddf4-41d8-9515-62feca737c30",
   "metadata": {},
   "outputs": [
    {
     "data": {
      "text/html": [
       "<div>\n",
       "<style scoped>\n",
       "    .dataframe tbody tr th:only-of-type {\n",
       "        vertical-align: middle;\n",
       "    }\n",
       "\n",
       "    .dataframe tbody tr th {\n",
       "        vertical-align: top;\n",
       "    }\n",
       "\n",
       "    .dataframe thead th {\n",
       "        text-align: right;\n",
       "    }\n",
       "</style>\n",
       "<table border=\"1\" class=\"dataframe\">\n",
       "  <thead>\n",
       "    <tr style=\"text-align: right;\">\n",
       "      <th></th>\n",
       "      <th>Metric Name</th>\n",
       "      <th>Value</th>\n",
       "    </tr>\n",
       "  </thead>\n",
       "  <tbody>\n",
       "    <tr>\n",
       "      <th>0</th>\n",
       "      <td>Sharpe Ratio</td>\n",
       "      <td>0.4208</td>\n",
       "    </tr>\n",
       "    <tr>\n",
       "      <th>1</th>\n",
       "      <td>Portfolio Expected Return</td>\n",
       "      <td>0.0299</td>\n",
       "    </tr>\n",
       "    <tr>\n",
       "      <th>2</th>\n",
       "      <td>Portfolio Volatility</td>\n",
       "      <td>0.0635</td>\n",
       "    </tr>\n",
       "  </tbody>\n",
       "</table>\n",
       "</div>"
      ],
      "text/plain": [
       "                 Metric Name   Value\n",
       "0               Sharpe Ratio  0.4208\n",
       "1  Portfolio Expected Return  0.0299\n",
       "2       Portfolio Volatility  0.0635"
      ]
     },
     "execution_count": 48,
     "metadata": {},
     "output_type": "execute_result"
    }
   ],
   "source": [
    "# Storing the data to show in lists\n",
    "metric_name = ['Sharpe Ratio', 'Portfolio Expected Return', 'Portfolio Volatility']\n",
    "metric_value = [round(sharpe_ratio, 4), round(portfolio_expected_return, 4), round(portfolio_sd, 4)]\n",
    "\n",
    "# Creating the dataframe\n",
    "metric_table = pd.DataFrame({'Metric Name': metric_name,\n",
    "                             'Value': metric_value})\n",
    "metric_table"
   ]
  },
  {
   "cell_type": "markdown",
   "id": "dbd31311-28b2-4071-9551-e849ddd1b9f3",
   "metadata": {},
   "source": [
    "It would also be useful to write in a separate sheet the input details of what the user gave to the programme, so that it would be easier for the user to keep track of their excel outputs. For this the pandas dataframes already exist, which are the original input tables `stock_details_excel` and `other_paramters`. However, `other_parameters`'s datetimes need to be first turned into dates only"
   ]
  },
  {
   "cell_type": "code",
   "execution_count": 49,
   "id": "1238dadc-9975-4a3a-889a-5e8ad449de54",
   "metadata": {},
   "outputs": [
    {
     "name": "stderr",
     "output_type": "stream",
     "text": [
      "/var/folders/ft/pyc14sjj57j267_mfgwsdhw00000gn/T/ipykernel_2069/3823370324.py:4: SettingWithCopyWarning: \n",
      "A value is trying to be set on a copy of a slice from a DataFrame\n",
      "\n",
      "See the caveats in the documentation: https://pandas.pydata.org/pandas-docs/stable/user_guide/indexing.html#returning-a-view-versus-a-copy\n",
      "  other_parameters['Start Date'][0] = other_parameters['Start Date'][0].date()\n",
      "/var/folders/ft/pyc14sjj57j267_mfgwsdhw00000gn/T/ipykernel_2069/3823370324.py:5: SettingWithCopyWarning: \n",
      "A value is trying to be set on a copy of a slice from a DataFrame\n",
      "\n",
      "See the caveats in the documentation: https://pandas.pydata.org/pandas-docs/stable/user_guide/indexing.html#returning-a-view-versus-a-copy\n",
      "  other_parameters['End Date'][0] = other_parameters['End Date'][0].date()\n"
     ]
    }
   ],
   "source": [
    "# Getting today's date and current time at which the file is generated\n",
    "date_today = dt.datetime.today().strftime('%Y-%m-%d--%H%M%S')\n",
    "# Transforming the start and end datetimes into dates only\n",
    "other_parameters['Start Date'][0] = other_parameters['Start Date'][0].date()\n",
    "other_parameters['End Date'][0] = other_parameters['End Date'][0].date()\n",
    "# Using the excel writer object\n",
    "with pd.ExcelWriter(f\"Excel_Outputs/Output-{date_today}.xlsx\") as writer:\n",
    "    # Writing the metrics into a excel sheet\n",
    "    metric_table.to_excel(writer,\n",
    "                         sheet_name='Metrics',\n",
    "                         index=False)\n",
    "    # Adding a sheet of the inputted stocks into the written excel sheet\n",
    "    stock_details_excel.to_excel(writer,\n",
    "                         sheet_name='Inputted Stocks',\n",
    "                         index=False)\n",
    "    # Adding a sheet of the other parameters given by the useer\n",
    "    other_parameters.to_excel(writer,\n",
    "                         sheet_name='Inputted Misc.',\n",
    "                         index=False)"
   ]
  },
  {
   "cell_type": "code",
   "execution_count": null,
   "id": "c6d6ae9f-8802-4b38-927e-eab1246fcdaa",
   "metadata": {},
   "outputs": [],
   "source": []
  }
 ],
 "metadata": {
  "kernelspec": {
   "display_name": "Python 3 (ipykernel)",
   "language": "python",
   "name": "python3"
  },
  "language_info": {
   "codemirror_mode": {
    "name": "ipython",
    "version": 3
   },
   "file_extension": ".py",
   "mimetype": "text/x-python",
   "name": "python",
   "nbconvert_exporter": "python",
   "pygments_lexer": "ipython3",
   "version": "3.11.5"
  }
 },
 "nbformat": 4,
 "nbformat_minor": 5
}
