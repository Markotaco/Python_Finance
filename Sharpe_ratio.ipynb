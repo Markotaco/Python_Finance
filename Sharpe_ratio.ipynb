{
 "cells": [
  {
   "cell_type": "markdown",
   "id": "ee77b11f-a19c-421e-875c-1e83a355dfe2",
   "metadata": {},
   "source": [
    "# Generating the Sharpe Ratio of a stock portfolio"
   ]
  },
  {
   "cell_type": "markdown",
   "id": "e7362e51-6ff0-4971-8cd2-f63f2d1840dd",
   "metadata": {},
   "source": [
    "The intended purpose for this file is to take in a tuple of stocks and their weights and to generate a Sharpe Ratio of the portfolio. It is meant to be an easy tool for those looking to evaluate their stock portfolios. Due to the simplicity of the tool, this is also **NOT** meant for day traders, but instead people who are taking a more long-term perspective to investing."
   ]
  },
  {
   "cell_type": "markdown",
   "id": "2bbbd989-4f6c-4d52-8ea3-b2938e4b9d71",
   "metadata": {},
   "source": [
    "## Input Fields\n",
    "Please fill in the stock tickers and their associated weights into the following fields. Please also fill in the annual risk-free rate you would like it to be evaluated at."
   ]
  },
  {
   "cell_type": "code",
   "execution_count": 3,
   "id": "379ef63b-652c-427a-b2fa-6e3841372d65",
   "metadata": {},
   "outputs": [],
   "source": [
    "stock_details = {'aapl': 0.3, 'msft': 0.3, 'nvda': 0.4}\n",
    "risk_free_rate = 0.03"
   ]
  },
  {
   "cell_type": "markdown",
   "id": "fafc3978-9735-4523-b831-3165ad6ce3e8",
   "metadata": {},
   "source": [
    "Please also fill in the the start and end dates of the historical period you would like to base the expected returns on."
   ]
  },
  {
   "cell_type": "code",
   "execution_count": 4,
   "id": "dfdbbea3-c602-4d9e-aaef-22775153651c",
   "metadata": {},
   "outputs": [],
   "source": [
    "start_date = '2015-07-01'\n",
    "end_date = '2025-07-01'"
   ]
  },
  {
   "cell_type": "markdown",
   "id": "e7f038c0-d80a-4716-b8e3-2c9d0fb9e9a6",
   "metadata": {},
   "source": [
    "Lastly, please fill in the type of returns you would like to see. You may choose from the following options:\n",
    "- 1 day: `1d`\n",
    "- 5 days: `5d`\n",
    "- 1 week: `1wk`\n",
    "- 1 month: `1mo`\n",
    "- 3 months:`3mo`"
   ]
  },
  {
   "cell_type": "code",
   "execution_count": 74,
   "id": "0d17fe9e-feef-473f-a11d-d5b594280662",
   "metadata": {},
   "outputs": [],
   "source": [
    "return_type = '1mo'"
   ]
  },
  {
   "cell_type": "markdown",
   "id": "1f043c94-3c9d-45ac-9e1c-b874e8848e2a",
   "metadata": {},
   "source": [
    "Once all inputs are set, please press `run all`"
   ]
  },
  {
   "cell_type": "markdown",
   "id": "041161a4-3e84-4f28-afb6-4921ab1e26dc",
   "metadata": {},
   "source": [
    "## Necessary Libraries"
   ]
  },
  {
   "cell_type": "code",
   "execution_count": 6,
   "id": "ebb637ea-0358-4356-8a23-acf01281f17d",
   "metadata": {},
   "outputs": [],
   "source": [
    "import numpy as np\n",
    "import pandas as pd\n",
    "import yfinance as yf"
   ]
  },
  {
   "cell_type": "markdown",
   "id": "1bc54bf0-cb07-44ad-a768-e43bad595257",
   "metadata": {},
   "source": [
    "## Getting the data"
   ]
  },
  {
   "cell_type": "markdown",
   "id": "cc575822-af76-44b6-a555-91a13f7f5dbc",
   "metadata": {},
   "source": [
    "The data will be taken from yfinance, an open source API for historical stock price data. The closing price will be used since that reflects the state of the stocks once the variations during the day has passed over. The return of the stock is simply the percentage change in the stock's closing price from the previous period."
   ]
  },
  {
   "cell_type": "code",
   "execution_count": 51,
   "id": "c6ffbb26-9d93-457f-a3a9-9b52b62985cb",
   "metadata": {},
   "outputs": [
    {
     "name": "stderr",
     "output_type": "stream",
     "text": [
      "/var/folders/ft/pyc14sjj57j267_mfgwsdhw00000gn/T/ipykernel_1558/3715850324.py:2: FutureWarning: YF.download() has changed argument auto_adjust default to True\n",
      "  stock_returns = yf.download(tuple(stock_details.keys()), start=start_date, end=end_date, interval=return_type)['Close'].pct_change()\n",
      "[*********************100%***********************]  3 of 3 completed\n",
      "\n",
      "3 Failed downloads:\n",
      "['AAPL', 'NVDA', 'MSFT']: YFPricesMissingError('possibly delisted; no price data found  (1m 2015-07-01 -> 2025-07-01) (Yahoo error = \"1m data not available for startTime=1435723200 and endTime=1751342400. Only 8 days worth of 1m granularity data are allowed to be fetched per request.\")')\n"
     ]
    },
    {
     "data": {
      "text/html": [
       "<div>\n",
       "<style scoped>\n",
       "    .dataframe tbody tr th:only-of-type {\n",
       "        vertical-align: middle;\n",
       "    }\n",
       "\n",
       "    .dataframe tbody tr th {\n",
       "        vertical-align: top;\n",
       "    }\n",
       "\n",
       "    .dataframe thead th {\n",
       "        text-align: right;\n",
       "    }\n",
       "</style>\n",
       "<table border=\"1\" class=\"dataframe\">\n",
       "  <thead>\n",
       "    <tr style=\"text-align: right;\">\n",
       "      <th>Ticker</th>\n",
       "      <th>AAPL</th>\n",
       "      <th>MSFT</th>\n",
       "      <th>NVDA</th>\n",
       "    </tr>\n",
       "    <tr>\n",
       "      <th>Date</th>\n",
       "      <th></th>\n",
       "      <th></th>\n",
       "      <th></th>\n",
       "    </tr>\n",
       "  </thead>\n",
       "  <tbody>\n",
       "  </tbody>\n",
       "</table>\n",
       "</div>"
      ],
      "text/plain": [
       "Empty DataFrame\n",
       "Columns: [AAPL, MSFT, NVDA]\n",
       "Index: []"
      ]
     },
     "execution_count": 51,
     "metadata": {},
     "output_type": "execute_result"
    }
   ],
   "source": [
    "# Using yf.download to get the data of multiple stocks' closing prices. After that using the pct_change method to get the percentage change in the stock's price from the previous period.\n",
    "stock_returns = yf.download(tuple(stock_details.keys()), start=start_date, end=end_date, interval=return_type)['Close'].pct_change()\n",
    "\n",
    "stock_returns"
   ]
  },
  {
   "cell_type": "markdown",
   "id": "977059a6-0b6f-4f0b-a67b-73e2fd1142d7",
   "metadata": {},
   "source": [
    "## Calculating the portfolio's expected returns"
   ]
  },
  {
   "cell_type": "markdown",
   "id": "82a455a6-045f-4726-b5b7-a5aeceda198f",
   "metadata": {},
   "source": [
    "A portfolio of size $n$ has a expected weighted return of:\n",
    "\n",
    "$$E[Return]$$ \n",
    "$$= E[w_1*r_1 + w_2*r_2 + ... + w_n*r_n]$$\n",
    "$$  = w_1*E[r_1] + w_2*E[r_2] + ... + w_n*E[r_n]$$\n",
    "\n",
    "In a sample, this translates to $\\bar{X_i}$ instead of $E[r_i]$"
   ]
  },
  {
   "cell_type": "code",
   "execution_count": 8,
   "id": "bf0faafc-9663-4526-b235-5aa512b0d4e9",
   "metadata": {},
   "outputs": [],
   "source": [
    "# Getting the sample mean of each stock\n",
    "exp_return = stock_returns.mean()\n",
    "# Turning it into an array\n",
    "exp_return_array = np.array(exp_return)\n",
    "# Turning the portfolio weights into an array\n",
    "stock_weights_array = np.array(tuple(stock_details.values()))"
   ]
  },
  {
   "cell_type": "code",
   "execution_count": 9,
   "id": "1013f77e-f623-4201-aff7-cc45d432aa5c",
   "metadata": {},
   "outputs": [
    {
     "data": {
      "text/plain": [
       "0.03657800596810441"
      ]
     },
     "execution_count": 9,
     "metadata": {},
     "output_type": "execute_result"
    }
   ],
   "source": [
    "# Getting the weighted expected returns by multiplying the weights to the sample means\n",
    "weighted_exp_return = exp_return_array * stock_weights_array\n",
    "# Getting the sum for the portfolio's expected returns\n",
    "portfolio_expected_return = weighted_exp_return.sum()\n",
    "portfolio_expected_return"
   ]
  },
  {
   "cell_type": "markdown",
   "id": "2bd4da99-ef73-49ed-95b4-656a2743baa8",
   "metadata": {},
   "source": [
    "## Calculating the portfolio's variance and standard deviation (volatility)"
   ]
  },
  {
   "cell_type": "markdown",
   "id": "3d49d30a-f847-4990-8c9b-d2ec58d643b0",
   "metadata": {},
   "source": [
    "A portfolio's return variance can be given by the following equation:\n",
    "\n",
    "$$var(Return)$$\n",
    "$$= var(w_1*r_1 + w_2*r_2 + ... + w_n*r_n)$$\n",
    "$$= w_1^2*var(r_1) + w_2^2*var(r_2) + ... + w_n^2*var(r_n) + 2*w_1*w_2*cov(r_1,r_2) + 2*w_1*w_3*cov(r_1,r_3) + ... 2*w_n*w_{n-1}*cov(w_n,w_{n-1})$$\n",
    "\n",
    "In a sample, this would be replaced by sample variances and covariances. The right degrees of freedom are already considered by the method by default"
   ]
  },
  {
   "cell_type": "code",
   "execution_count": 10,
   "id": "cbe31ac2-9fd3-40ca-8c2e-e9be313a23f4",
   "metadata": {},
   "outputs": [
    {
     "data": {
      "text/html": [
       "<div>\n",
       "<style scoped>\n",
       "    .dataframe tbody tr th:only-of-type {\n",
       "        vertical-align: middle;\n",
       "    }\n",
       "\n",
       "    .dataframe tbody tr th {\n",
       "        vertical-align: top;\n",
       "    }\n",
       "\n",
       "    .dataframe thead th {\n",
       "        text-align: right;\n",
       "    }\n",
       "</style>\n",
       "<table border=\"1\" class=\"dataframe\">\n",
       "  <thead>\n",
       "    <tr style=\"text-align: right;\">\n",
       "      <th>Ticker</th>\n",
       "      <th>AAPL</th>\n",
       "      <th>MSFT</th>\n",
       "      <th>NVDA</th>\n",
       "    </tr>\n",
       "    <tr>\n",
       "      <th>Ticker</th>\n",
       "      <th></th>\n",
       "      <th></th>\n",
       "      <th></th>\n",
       "    </tr>\n",
       "  </thead>\n",
       "  <tbody>\n",
       "    <tr>\n",
       "      <th>AAPL</th>\n",
       "      <td>0.006453</td>\n",
       "      <td>0.002892</td>\n",
       "      <td>0.005748</td>\n",
       "    </tr>\n",
       "    <tr>\n",
       "      <th>MSFT</th>\n",
       "      <td>0.002892</td>\n",
       "      <td>0.003667</td>\n",
       "      <td>0.004921</td>\n",
       "    </tr>\n",
       "    <tr>\n",
       "      <th>NVDA</th>\n",
       "      <td>0.005748</td>\n",
       "      <td>0.004921</td>\n",
       "      <td>0.018708</td>\n",
       "    </tr>\n",
       "  </tbody>\n",
       "</table>\n",
       "</div>"
      ],
      "text/plain": [
       "Ticker      AAPL      MSFT      NVDA\n",
       "Ticker                              \n",
       "AAPL    0.006453  0.002892  0.005748\n",
       "MSFT    0.002892  0.003667  0.004921\n",
       "NVDA    0.005748  0.004921  0.018708"
      ]
     },
     "execution_count": 10,
     "metadata": {},
     "output_type": "execute_result"
    }
   ],
   "source": [
    "# Getting the covariance matrix from the stock data\n",
    "stock_returns_cov = stock_returns.cov()\n",
    "stock_returns_cov"
   ]
  },
  {
   "cell_type": "code",
   "execution_count": 11,
   "id": "0d1bec6a-569f-48f5-b6f4-b491c9e8e501",
   "metadata": {},
   "outputs": [
    {
     "data": {
      "text/plain": [
       "array([[0.09, 0.09, 0.12],\n",
       "       [0.09, 0.09, 0.12],\n",
       "       [0.12, 0.12, 0.16]])"
      ]
     },
     "execution_count": 11,
     "metadata": {},
     "output_type": "execute_result"
    }
   ],
   "source": [
    "# Generating the weights matrix, which consists of a matrix mulitplication between the weights array and its transpose\n",
    "stock_weights_matrix = np.outer(stock_weights_array, stock_weights_array)\n",
    "stock_weights_matrix"
   ]
  },
  {
   "cell_type": "markdown",
   "id": "ac7ffa50-df7b-411f-92b0-35f91e7c52c1",
   "metadata": {},
   "source": [
    "The scalar multiplication of the above matrices, followed by a summation accross all elements of the resulting matrix, will give one the portfolio variance as described in the equation above."
   ]
  },
  {
   "cell_type": "code",
   "execution_count": 12,
   "id": "446e9421-19b5-462b-add9-6db992e94f0a",
   "metadata": {},
   "outputs": [
    {
     "data": {
      "text/plain": [
       "0.00698536324104065"
      ]
     },
     "execution_count": 12,
     "metadata": {},
     "output_type": "execute_result"
    }
   ],
   "source": [
    "# Multiplying the two matrices, and then getting the sum over all rows, then columns\n",
    "portfolio_variance = (stock_returns_cov * stock_weights_matrix).sum().sum()\n",
    "portfolio_variance"
   ]
  },
  {
   "cell_type": "markdown",
   "id": "e1829a34-faa1-40a6-93d5-29418481462e",
   "metadata": {},
   "source": [
    "After obtaining the variance of a portfolio, the standard deviation can be given by:\n",
    "$$\\sigma = \\sqrt{var(Return)}$$"
   ]
  },
  {
   "cell_type": "code",
   "execution_count": 13,
   "id": "61aa44fa-a22d-4e83-a6bf-40427b95dfe1",
   "metadata": {},
   "outputs": [
    {
     "data": {
      "text/plain": [
       "0.08357848551535646"
      ]
     },
     "execution_count": 13,
     "metadata": {},
     "output_type": "execute_result"
    }
   ],
   "source": [
    "# Obtaining the standard deviation of the portfolio\n",
    "portfolio_sd = np.sqrt(portfolio_variance)\n",
    "portfolio_sd"
   ]
  },
  {
   "cell_type": "markdown",
   "id": "b1d0a563-af32-407a-aeca-6ede0e8af27f",
   "metadata": {},
   "source": [
    "## Calculating the Sharpe ratio"
   ]
  },
  {
   "cell_type": "markdown",
   "id": "67b0d3c6-c769-44f6-adba-73a54d234562",
   "metadata": {},
   "source": [
    "The Sharpe ratio can be calculated as the following:\n",
    "\n",
    "$${Sharpe Ratio} = \\frac{r_p - r_f}{\\sigma_p}$$\n",
    "\n",
    "Where $r_p$ and $\\sigma_p$ are the expected return of the portfolio and the volatility of the portfolio respectively, and $r_f$ is the return from the risk-free option"
   ]
  },
  {
   "cell_type": "markdown",
   "id": "50f17748-d337-4f31-be77-2db458ec3753",
   "metadata": {},
   "source": [
    "To obtain an appropriate risk-free rate that has been adjusted for the time period the user specified to look at, the annual risk-free rate given by the user needs to be adjusted to fit their time period. Thus, a function will help to do this"
   ]
  },
  {
   "cell_type": "code",
   "execution_count": 55,
   "id": "4466d646-d921-45ab-b61d-2c3f224eac6f",
   "metadata": {},
   "outputs": [],
   "source": [
    "# Creating a function to adjust the annual risk-free rate according to the time interval specified by the user. This ensures a consistent risk-free rate used\n",
    "def rf_adjuster(rf_input, time_interval):\n",
    "    \"Takes the inputted risk-free rate and returns the interest rate adjusted for the inputted time interval the user is looking at\"\n",
    "    # Looking at the case of daily returns\n",
    "    if 'd' in time_interval:\n",
    "        # Converting the annual rate into a daily rate\n",
    "        rf_base = (1+rf_input)**(1/365) - 1\n",
    "        # Converting the daily rate to the appropriate period\n",
    "        rf_adjusted = (1+rf_base)**(int(time_interval[0])) - 1\n",
    "    # Looking at the case of weekly returns\n",
    "    elif 'wk' in time_interval:\n",
    "        # Converting the annual rate into a weekly rate\n",
    "        rf_base = (1+rf_input)**(1/52) - 1\n",
    "        # Converting the weekly rate to the appropriate period\n",
    "        rf_adjusted = (1+rf_base)**(int(time_interval[0])) - 1\n",
    "    # Looking at the case of monthly returns\n",
    "    elif 'mo' in time_interval:\n",
    "        # Converting the annual rate into a monthly rate\n",
    "        rf_base = (1+rf_input)**(1/12) - 1\n",
    "        # Converting the monthly rate to the appropriate period\n",
    "        rf_adjusted = (1+rf_base)**(int(time_interval[0])) - 1\n",
    "    # If none of the cases match, then the user has given an erroneous input\n",
    "    else:\n",
    "        return print(\"Error, interval given is not a valid interval within this tool\")\n",
    "    # Return the adjusted input\n",
    "    return rf_adjusted"
   ]
  },
  {
   "cell_type": "code",
   "execution_count": 78,
   "id": "7540811b-8244-4dea-b692-a040ebb13790",
   "metadata": {},
   "outputs": [
    {
     "data": {
      "text/plain": [
       "0.0024662697723036864"
      ]
     },
     "execution_count": 78,
     "metadata": {},
     "output_type": "execute_result"
    }
   ],
   "source": [
    "# Getting the adjusted risk-free rate\n",
    "adjusted_risk_free_rate = rf_adjuster(risk_free_rate, return_type)\n",
    "adjusted_risk_free_rate"
   ]
  },
  {
   "cell_type": "code",
   "execution_count": 79,
   "id": "b12c400a-85d6-43e7-b5fa-f3e04839502e",
   "metadata": {},
   "outputs": [
    {
     "data": {
      "text/plain": [
       "0.4081401569490409"
      ]
     },
     "execution_count": 79,
     "metadata": {},
     "output_type": "execute_result"
    }
   ],
   "source": [
    "# Getting the Sharpe ratio as defined above\n",
    "sharpe_ratio = (portfolio_expected_return - adjusted_risk_free_rate)/portfolio_sd\n",
    "sharpe_ratio"
   ]
  },
  {
   "cell_type": "markdown",
   "id": "f98632a6-afc9-4570-9fd3-b684e1ad3f9c",
   "metadata": {},
   "source": [
    "### The Sharpe Ratio of this portfolio is thus the following, rounded to 3 decimals"
   ]
  },
  {
   "cell_type": "code",
   "execution_count": 80,
   "id": "02610b79-e236-494d-8582-0eefeaf2cb51",
   "metadata": {},
   "outputs": [
    {
     "data": {
      "text/plain": [
       "0.408"
      ]
     },
     "execution_count": 80,
     "metadata": {},
     "output_type": "execute_result"
    }
   ],
   "source": [
    "round(sharpe_ratio, 3)"
   ]
  },
  {
   "cell_type": "code",
   "execution_count": null,
   "id": "f990996c-22d2-447d-a608-6d833f9e1d0c",
   "metadata": {},
   "outputs": [],
   "source": []
  }
 ],
 "metadata": {
  "kernelspec": {
   "display_name": "Python 3 (ipykernel)",
   "language": "python",
   "name": "python3"
  },
  "language_info": {
   "codemirror_mode": {
    "name": "ipython",
    "version": 3
   },
   "file_extension": ".py",
   "mimetype": "text/x-python",
   "name": "python",
   "nbconvert_exporter": "python",
   "pygments_lexer": "ipython3",
   "version": "3.11.5"
  }
 },
 "nbformat": 4,
 "nbformat_minor": 5
}
