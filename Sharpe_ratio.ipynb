{
 "cells": [
  {
   "cell_type": "markdown",
   "id": "ee77b11f-a19c-421e-875c-1e83a355dfe2",
   "metadata": {},
   "source": [
    "# Generating the Sharpe Ratio of a stock portfolio"
   ]
  },
  {
   "cell_type": "markdown",
   "id": "e7362e51-6ff0-4971-8cd2-f63f2d1840dd",
   "metadata": {},
   "source": [
    "The intended purpose for this file is to take in a tuple of stocks and their weights and to generate a Sharpe Ratio of the portfolio. It is meant to be an easy tool for those looking to evaluate their stock portfolios."
   ]
  },
  {
   "cell_type": "markdown",
   "id": "2bbbd989-4f6c-4d52-8ea3-b2938e4b9d71",
   "metadata": {},
   "source": [
    "## Input Fields\n",
    "Please fill in the stock tickers and their associated weights into the following fields. Please also fill in the risk-free rate you would like it to be evaluated at."
   ]
  },
  {
   "cell_type": "code",
   "execution_count": 112,
   "id": "379ef63b-652c-427a-b2fa-6e3841372d65",
   "metadata": {},
   "outputs": [],
   "source": [
    "stock_details = {'aapl': 0.3, 'msft': 0.3, 'nvda': 0.4}\n",
    "risk_free_rate = 0.03"
   ]
  },
  {
   "cell_type": "markdown",
   "id": "fafc3978-9735-4523-b831-3165ad6ce3e8",
   "metadata": {},
   "source": [
    "Please also fill in the the start and end dates of the historical period you would like to base the expected returns on."
   ]
  },
  {
   "cell_type": "code",
   "execution_count": 113,
   "id": "dfdbbea3-c602-4d9e-aaef-22775153651c",
   "metadata": {},
   "outputs": [],
   "source": [
    "start_date = '2015-07-01'\n",
    "end_date = '2025-07-01'"
   ]
  },
  {
   "cell_type": "markdown",
   "id": "e7f038c0-d80a-4716-b8e3-2c9d0fb9e9a6",
   "metadata": {},
   "source": [
    "Lastly, please fill in the type of returns you would like to see. You may choose from the following options:\n",
    "- 1 day: `1d`\n",
    "- 5 days: `5d`\n",
    "- 1 month: `1mo`\n",
    "- 3 months:`3mo`\n",
    "- 6 months: `6mo`\n",
    "- 1 year: `1y`\n",
    "- 2 years: `2y`\n",
    "- 5 years: `5y`\n",
    "- 10 years: `10y`\n",
    "- Year-to-date: `ytd`\n",
    "- Maximum data availability: `max`"
   ]
  },
  {
   "cell_type": "code",
   "execution_count": 114,
   "id": "0d17fe9e-feef-473f-a11d-d5b594280662",
   "metadata": {},
   "outputs": [],
   "source": [
    "return_type = '1mo'"
   ]
  },
  {
   "cell_type": "markdown",
   "id": "1f043c94-3c9d-45ac-9e1c-b874e8848e2a",
   "metadata": {},
   "source": [
    "Once all inputs are set, please press `run all`"
   ]
  },
  {
   "cell_type": "markdown",
   "id": "041161a4-3e84-4f28-afb6-4921ab1e26dc",
   "metadata": {},
   "source": [
    "## Necessary Libraries"
   ]
  },
  {
   "cell_type": "code",
   "execution_count": 115,
   "id": "ebb637ea-0358-4356-8a23-acf01281f17d",
   "metadata": {},
   "outputs": [],
   "source": [
    "import numpy as np\n",
    "import pandas as pd\n",
    "import yfinance as yf"
   ]
  },
  {
   "cell_type": "markdown",
   "id": "cc575822-af76-44b6-a555-91a13f7f5dbc",
   "metadata": {},
   "source": [
    "The data will be taken from yfinance, an open source API for historical stock price data. The closing price will be used since that reflects the state of the stocks once the variations during the day has passed over. The return of the stock is simply the percentage change in the stock's closing price from the previous period."
   ]
  },
  {
   "cell_type": "code",
   "execution_count": 116,
   "id": "c6ffbb26-9d93-457f-a3a9-9b52b62985cb",
   "metadata": {},
   "outputs": [
    {
     "name": "stderr",
     "output_type": "stream",
     "text": [
      "/var/folders/ft/pyc14sjj57j267_mfgwsdhw00000gn/T/ipykernel_2546/3715850324.py:2: FutureWarning: YF.download() has changed argument auto_adjust default to True\n",
      "  stock_returns = yf.download(tuple(stock_details.keys()), start=start_date, end=end_date, interval=return_type)['Close'].pct_change()\n",
      "[*********************100%***********************]  3 of 3 completed\n"
     ]
    },
    {
     "data": {
      "text/html": [
       "<div>\n",
       "<style scoped>\n",
       "    .dataframe tbody tr th:only-of-type {\n",
       "        vertical-align: middle;\n",
       "    }\n",
       "\n",
       "    .dataframe tbody tr th {\n",
       "        vertical-align: top;\n",
       "    }\n",
       "\n",
       "    .dataframe thead th {\n",
       "        text-align: right;\n",
       "    }\n",
       "</style>\n",
       "<table border=\"1\" class=\"dataframe\">\n",
       "  <thead>\n",
       "    <tr style=\"text-align: right;\">\n",
       "      <th>Ticker</th>\n",
       "      <th>AAPL</th>\n",
       "      <th>MSFT</th>\n",
       "      <th>NVDA</th>\n",
       "    </tr>\n",
       "    <tr>\n",
       "      <th>Date</th>\n",
       "      <th></th>\n",
       "      <th></th>\n",
       "      <th></th>\n",
       "    </tr>\n",
       "  </thead>\n",
       "  <tbody>\n",
       "    <tr>\n",
       "      <th>2015-07-01</th>\n",
       "      <td>NaN</td>\n",
       "      <td>NaN</td>\n",
       "      <td>NaN</td>\n",
       "    </tr>\n",
       "    <tr>\n",
       "      <th>2015-08-01</th>\n",
       "      <td>-0.070404</td>\n",
       "      <td>-0.068094</td>\n",
       "      <td>0.126817</td>\n",
       "    </tr>\n",
       "    <tr>\n",
       "      <th>2015-09-01</th>\n",
       "      <td>-0.017389</td>\n",
       "      <td>0.023710</td>\n",
       "      <td>0.101144</td>\n",
       "    </tr>\n",
       "    <tr>\n",
       "      <th>2015-10-01</th>\n",
       "      <td>0.083409</td>\n",
       "      <td>0.189336</td>\n",
       "      <td>0.150913</td>\n",
       "    </tr>\n",
       "    <tr>\n",
       "      <th>2015-11-01</th>\n",
       "      <td>-0.010042</td>\n",
       "      <td>0.032485</td>\n",
       "      <td>0.118082</td>\n",
       "    </tr>\n",
       "    <tr>\n",
       "      <th>...</th>\n",
       "      <td>...</td>\n",
       "      <td>...</td>\n",
       "      <td>...</td>\n",
       "    </tr>\n",
       "    <tr>\n",
       "      <th>2025-02-01</th>\n",
       "      <td>0.024746</td>\n",
       "      <td>-0.043536</td>\n",
       "      <td>0.040393</td>\n",
       "    </tr>\n",
       "    <tr>\n",
       "      <th>2025-03-01</th>\n",
       "      <td>-0.080490</td>\n",
       "      <td>-0.052513</td>\n",
       "      <td>-0.132405</td>\n",
       "    </tr>\n",
       "    <tr>\n",
       "      <th>2025-04-01</th>\n",
       "      <td>-0.043353</td>\n",
       "      <td>0.052932</td>\n",
       "      <td>0.005075</td>\n",
       "    </tr>\n",
       "    <tr>\n",
       "      <th>2025-05-01</th>\n",
       "      <td>-0.054824</td>\n",
       "      <td>0.164702</td>\n",
       "      <td>0.240635</td>\n",
       "    </tr>\n",
       "    <tr>\n",
       "      <th>2025-06-01</th>\n",
       "      <td>0.022848</td>\n",
       "      <td>0.082464</td>\n",
       "      <td>0.169170</td>\n",
       "    </tr>\n",
       "  </tbody>\n",
       "</table>\n",
       "<p>120 rows × 3 columns</p>\n",
       "</div>"
      ],
      "text/plain": [
       "Ticker          AAPL      MSFT      NVDA\n",
       "Date                                    \n",
       "2015-07-01       NaN       NaN       NaN\n",
       "2015-08-01 -0.070404 -0.068094  0.126817\n",
       "2015-09-01 -0.017389  0.023710  0.101144\n",
       "2015-10-01  0.083409  0.189336  0.150913\n",
       "2015-11-01 -0.010042  0.032485  0.118082\n",
       "...              ...       ...       ...\n",
       "2025-02-01  0.024746 -0.043536  0.040393\n",
       "2025-03-01 -0.080490 -0.052513 -0.132405\n",
       "2025-04-01 -0.043353  0.052932  0.005075\n",
       "2025-05-01 -0.054824  0.164702  0.240635\n",
       "2025-06-01  0.022848  0.082464  0.169170\n",
       "\n",
       "[120 rows x 3 columns]"
      ]
     },
     "execution_count": 116,
     "metadata": {},
     "output_type": "execute_result"
    }
   ],
   "source": [
    "# Using yf.download to get the data of multiple stocks' closing prices. After that using the pct_change method to get the percentage change in the stock's price from the previous period.\n",
    "stock_returns = yf.download(tuple(stock_details.keys()), start=start_date, end=end_date, interval=return_type)['Close'].pct_change()\n",
    "\n",
    "stock_returns"
   ]
  },
  {
   "cell_type": "markdown",
   "id": "82a455a6-045f-4726-b5b7-a5aeceda198f",
   "metadata": {},
   "source": [
    "A portfolio of size $n$ has a expected weighted return of:\n",
    "\n",
    "$$E[Return]$$ \n",
    "$$= E[w_1*r_1 + w_2*r_2 + ... + w_n*r_n]$$\n",
    "$$  = w_1*E[r_1] + w_2*E[r_2] + ... + w_n*E[r_n]$$\n",
    "\n",
    "In a sample, this translates to $\\bar{X_i}$ instead of $E[r_i]$"
   ]
  },
  {
   "cell_type": "code",
   "execution_count": 117,
   "id": "bf0faafc-9663-4526-b235-5aa512b0d4e9",
   "metadata": {},
   "outputs": [],
   "source": [
    "# Getting the sample mean of each stock\n",
    "exp_return = stock_returns.mean()\n",
    "# Turning it into an array\n",
    "exp_return_array = np.array(exp_return)\n",
    "# Turning the portfolio weights into an array\n",
    "stock_weights_array = np.array(tuple(stock_details.values()))"
   ]
  },
  {
   "cell_type": "code",
   "execution_count": 121,
   "id": "1013f77e-f623-4201-aff7-cc45d432aa5c",
   "metadata": {},
   "outputs": [
    {
     "data": {
      "text/plain": [
       "0.0365780075532575"
      ]
     },
     "execution_count": 121,
     "metadata": {},
     "output_type": "execute_result"
    }
   ],
   "source": [
    "# Getting the weighted expected returns by multiplying the weights to the sample means\n",
    "weighted_exp_return = exp_return_array * stock_weights_array\n",
    "# Getting the sum for the portfolio's expected returns\n",
    "weighted_exp_return.sum()"
   ]
  },
  {
   "cell_type": "code",
   "execution_count": 119,
   "id": "1fcc8969-980b-4d9f-b48c-016446c43509",
   "metadata": {},
   "outputs": [
    {
     "data": {
      "text/plain": [
       "Ticker\n",
       "AAPL    0.243535\n",
       "MSFT    0.276886\n",
       "NVDA    0.707025\n",
       "dtype: float64"
      ]
     },
     "execution_count": 119,
     "metadata": {},
     "output_type": "execute_result"
    }
   ],
   "source": [
    "exp_return * 12"
   ]
  },
  {
   "cell_type": "code",
   "execution_count": null,
   "id": "d6270828-0708-4045-af0f-7d19cb96f28f",
   "metadata": {},
   "outputs": [],
   "source": []
  }
 ],
 "metadata": {
  "kernelspec": {
   "display_name": "Python 3 (ipykernel)",
   "language": "python",
   "name": "python3"
  },
  "language_info": {
   "codemirror_mode": {
    "name": "ipython",
    "version": 3
   },
   "file_extension": ".py",
   "mimetype": "text/x-python",
   "name": "python",
   "nbconvert_exporter": "python",
   "pygments_lexer": "ipython3",
   "version": "3.11.5"
  }
 },
 "nbformat": 4,
 "nbformat_minor": 5
}
