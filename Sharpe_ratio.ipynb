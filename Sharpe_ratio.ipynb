{
 "cells": [
  {
   "cell_type": "markdown",
   "id": "ee77b11f-a19c-421e-875c-1e83a355dfe2",
   "metadata": {},
   "source": [
    "# Generating the Sharpe Ratio of a stock portfolio"
   ]
  },
  {
   "cell_type": "markdown",
   "id": "e7362e51-6ff0-4971-8cd2-f63f2d1840dd",
   "metadata": {},
   "source": [
    "The intended purpose for this file is to take in a tuple of stocks and their weights and to generate a Sharpe Ratio of the portfolio. It is meant to be an easy tool for those looking to evaluate their stock portfolios."
   ]
  },
  {
   "cell_type": "markdown",
   "id": "2bbbd989-4f6c-4d52-8ea3-b2938e4b9d71",
   "metadata": {},
   "source": [
    "## Input Fields\n",
    "Please fill in the stock tickers and their associated weights into the following fields. Please also fill in the risk-free rate you would like it to be evaluated at."
   ]
  },
  {
   "cell_type": "code",
   "execution_count": 8,
   "id": "379ef63b-652c-427a-b2fa-6e3841372d65",
   "metadata": {},
   "outputs": [],
   "source": [
    "stock_names = {'aapl': 0.3, 'msft': 0.3, 'nvda': 0.4}\n",
    "risk_free_rate = 0.03"
   ]
  },
  {
   "cell_type": "markdown",
   "id": "fafc3978-9735-4523-b831-3165ad6ce3e8",
   "metadata": {},
   "source": [
    "Please also fill in the the start and end dates of the historical period you would like to base the expected returns on."
   ]
  },
  {
   "cell_type": "code",
   "execution_count": 27,
   "id": "dfdbbea3-c602-4d9e-aaef-22775153651c",
   "metadata": {},
   "outputs": [],
   "source": [
    "start_date = '2015-07-01'\n",
    "end_date = '2025-07-01'"
   ]
  },
  {
   "cell_type": "markdown",
   "id": "e7f038c0-d80a-4716-b8e3-2c9d0fb9e9a6",
   "metadata": {},
   "source": [
    "Lastly, please fill in the type of returns you would like to see. You may choose from the following options:\n",
    "- 1 day: `1d`\n",
    "- 5 days: `5d`\n",
    "- 1 month: `1mo`\n",
    "- 3 months:`3mo`\n",
    "- 6 months: `6mo`\n",
    "- 1 year: `1y`\n",
    "- 2 years: `2y`\n",
    "- 5 years: `5y`\n",
    "- 10 years: `10y`\n",
    "- Year-to-date: `ytd`\n",
    "- Maximum data availability: `max`"
   ]
  },
  {
   "cell_type": "code",
   "execution_count": 10,
   "id": "0d17fe9e-feef-473f-a11d-d5b594280662",
   "metadata": {},
   "outputs": [],
   "source": [
    "return_type = '1mo'"
   ]
  },
  {
   "cell_type": "markdown",
   "id": "1f043c94-3c9d-45ac-9e1c-b874e8848e2a",
   "metadata": {},
   "source": [
    "Once all inputs are set, please press `run all`"
   ]
  },
  {
   "cell_type": "markdown",
   "id": "041161a4-3e84-4f28-afb6-4921ab1e26dc",
   "metadata": {},
   "source": [
    "## Necessary Libraries"
   ]
  },
  {
   "cell_type": "code",
   "execution_count": 1,
   "id": "ebb637ea-0358-4356-8a23-acf01281f17d",
   "metadata": {},
   "outputs": [],
   "source": [
    "import numpy as np\n",
    "import pandas as pd\n",
    "import yfinance as yf"
   ]
  },
  {
   "cell_type": "markdown",
   "id": "cc575822-af76-44b6-a555-91a13f7f5dbc",
   "metadata": {},
   "source": [
    "The data will be taken from yfinance, an open source API for historical stock price data. The closing price will be used since that reflects the state of the stocks once the variations during the day has passed over. The return of the stock is simply the percentage change in the stock's closing price from the previous period."
   ]
  },
  {
   "cell_type": "code",
   "execution_count": 34,
   "id": "c6ffbb26-9d93-457f-a3a9-9b52b62985cb",
   "metadata": {},
   "outputs": [
    {
     "name": "stderr",
     "output_type": "stream",
     "text": [
      "/var/folders/ft/pyc14sjj57j267_mfgwsdhw00000gn/T/ipykernel_2546/1717788612.py:2: FutureWarning: YF.download() has changed argument auto_adjust default to True\n",
      "  stock_returns = yf.download(list(stock_names.keys()), start=start_date, end=end_date, period=return_type)['Close'].pct_change()\n",
      "[*********************100%***********************]  3 of 3 completed\n"
     ]
    },
    {
     "data": {
      "text/html": [
       "<div>\n",
       "<style scoped>\n",
       "    .dataframe tbody tr th:only-of-type {\n",
       "        vertical-align: middle;\n",
       "    }\n",
       "\n",
       "    .dataframe tbody tr th {\n",
       "        vertical-align: top;\n",
       "    }\n",
       "\n",
       "    .dataframe thead th {\n",
       "        text-align: right;\n",
       "    }\n",
       "</style>\n",
       "<table border=\"1\" class=\"dataframe\">\n",
       "  <thead>\n",
       "    <tr style=\"text-align: right;\">\n",
       "      <th>Ticker</th>\n",
       "      <th>AAPL</th>\n",
       "      <th>MSFT</th>\n",
       "      <th>NVDA</th>\n",
       "    </tr>\n",
       "    <tr>\n",
       "      <th>Date</th>\n",
       "      <th></th>\n",
       "      <th></th>\n",
       "      <th></th>\n",
       "    </tr>\n",
       "  </thead>\n",
       "  <tbody>\n",
       "    <tr>\n",
       "      <th>2015-07-01</th>\n",
       "      <td>NaN</td>\n",
       "      <td>NaN</td>\n",
       "      <td>NaN</td>\n",
       "    </tr>\n",
       "    <tr>\n",
       "      <th>2015-07-02</th>\n",
       "      <td>-0.001264</td>\n",
       "      <td>-0.001125</td>\n",
       "      <td>0.000981</td>\n",
       "    </tr>\n",
       "    <tr>\n",
       "      <th>2015-07-06</th>\n",
       "      <td>-0.003480</td>\n",
       "      <td>-0.000225</td>\n",
       "      <td>-0.012243</td>\n",
       "    </tr>\n",
       "    <tr>\n",
       "      <th>2015-07-07</th>\n",
       "      <td>-0.002461</td>\n",
       "      <td>-0.002027</td>\n",
       "      <td>-0.018840</td>\n",
       "    </tr>\n",
       "    <tr>\n",
       "      <th>2015-07-08</th>\n",
       "      <td>-0.024823</td>\n",
       "      <td>-0.001354</td>\n",
       "      <td>-0.007074</td>\n",
       "    </tr>\n",
       "    <tr>\n",
       "      <th>...</th>\n",
       "      <td>...</td>\n",
       "      <td>...</td>\n",
       "      <td>...</td>\n",
       "    </tr>\n",
       "    <tr>\n",
       "      <th>2025-06-24</th>\n",
       "      <td>-0.005955</td>\n",
       "      <td>0.008457</td>\n",
       "      <td>0.025872</td>\n",
       "    </tr>\n",
       "    <tr>\n",
       "      <th>2025-06-25</th>\n",
       "      <td>0.006291</td>\n",
       "      <td>0.004407</td>\n",
       "      <td>0.043340</td>\n",
       "    </tr>\n",
       "    <tr>\n",
       "      <th>2025-06-26</th>\n",
       "      <td>-0.002778</td>\n",
       "      <td>0.010523</td>\n",
       "      <td>0.004601</td>\n",
       "    </tr>\n",
       "    <tr>\n",
       "      <th>2025-06-27</th>\n",
       "      <td>0.000398</td>\n",
       "      <td>-0.003036</td>\n",
       "      <td>0.017611</td>\n",
       "    </tr>\n",
       "    <tr>\n",
       "      <th>2025-06-30</th>\n",
       "      <td>0.020340</td>\n",
       "      <td>0.002964</td>\n",
       "      <td>0.001521</td>\n",
       "    </tr>\n",
       "  </tbody>\n",
       "</table>\n",
       "<p>2514 rows × 3 columns</p>\n",
       "</div>"
      ],
      "text/plain": [
       "Ticker          AAPL      MSFT      NVDA\n",
       "Date                                    \n",
       "2015-07-01       NaN       NaN       NaN\n",
       "2015-07-02 -0.001264 -0.001125  0.000981\n",
       "2015-07-06 -0.003480 -0.000225 -0.012243\n",
       "2015-07-07 -0.002461 -0.002027 -0.018840\n",
       "2015-07-08 -0.024823 -0.001354 -0.007074\n",
       "...              ...       ...       ...\n",
       "2025-06-24 -0.005955  0.008457  0.025872\n",
       "2025-06-25  0.006291  0.004407  0.043340\n",
       "2025-06-26 -0.002778  0.010523  0.004601\n",
       "2025-06-27  0.000398 -0.003036  0.017611\n",
       "2025-06-30  0.020340  0.002964  0.001521\n",
       "\n",
       "[2514 rows x 3 columns]"
      ]
     },
     "execution_count": 34,
     "metadata": {},
     "output_type": "execute_result"
    }
   ],
   "source": [
    "# Using yf.download to get the data of multiple stocks' closing prices. After that using the pct_change method to get the percentage change in the stock's price from the previous period.\n",
    "stock_returns = yf.download(list(stock_names.keys()), start=start_date, end=end_date, period=return_type)['Close'].pct_change()\n",
    "\n",
    "stock_returns"
   ]
  },
  {
   "cell_type": "code",
   "execution_count": 24,
   "id": "f8be3c6a-3941-4968-b039-5b406643d16c",
   "metadata": {},
   "outputs": [
    {
     "data": {
      "text/plain": [
       "('aapl', 'msft', 'nvda')"
      ]
     },
     "execution_count": 24,
     "metadata": {},
     "output_type": "execute_result"
    }
   ],
   "source": []
  }
 ],
 "metadata": {
  "kernelspec": {
   "display_name": "Python 3 (ipykernel)",
   "language": "python",
   "name": "python3"
  },
  "language_info": {
   "codemirror_mode": {
    "name": "ipython",
    "version": 3
   },
   "file_extension": ".py",
   "mimetype": "text/x-python",
   "name": "python",
   "nbconvert_exporter": "python",
   "pygments_lexer": "ipython3",
   "version": "3.11.5"
  }
 },
 "nbformat": 4,
 "nbformat_minor": 5
}
